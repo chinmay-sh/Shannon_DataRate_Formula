{
  "nbformat": 4,
  "nbformat_minor": 0,
  "metadata": {
    "colab": {
      "name": "Shannon's Formula.ipynb",
      "provenance": [],
      "collapsed_sections": []
    },
    "kernelspec": {
      "name": "python3",
      "display_name": "Python 3"
    }
  },
  "cells": [
    {
      "cell_type": "code",
      "metadata": {
        "id": "PHbApwmljQbT",
        "colab_type": "code",
        "colab": {}
      },
      "source": [
        "import math"
      ],
      "execution_count": 0,
      "outputs": []
    },
    {
      "cell_type": "markdown",
      "metadata": {
        "id": "TLnMxtOBkq7N",
        "colab_type": "text"
      },
      "source": [
        "## Functions Required for calculation"
      ]
    },
    {
      "cell_type": "code",
      "metadata": {
        "id": "qVux4Oy7j0do",
        "colab_type": "code",
        "colab": {}
      },
      "source": [
        "# snr = 10 ** (db / 10)\n",
        "def convertdb(db):\n",
        "  print('snr = 10 ** (',db, '/ 10) = ', 10 ** (db / 10))\n",
        "  return 10 ** (db / 10)"
      ],
      "execution_count": 0,
      "outputs": []
    },
    {
      "cell_type": "code",
      "metadata": {
        "id": "aZzyWqNmknwC",
        "colab_type": "code",
        "colab": {}
      },
      "source": [
        "def calDataRate(bandwidth,snr):\n",
        "  convertedDb = convertdb(snr)\n",
        "  dr = bandwidth * (math.log2(1+ convertedDb))\n",
        "  print('Data rate = ' + str(bandwidth) + ' * log2 (' + str(1+convertedDb) + ')')\n",
        "  return dr"
      ],
      "execution_count": 0,
      "outputs": []
    },
    {
      "cell_type": "markdown",
      "metadata": {
        "id": "P4KtP7Lnm5rM",
        "colab_type": "text"
      },
      "source": [
        "## Declaration of Variables"
      ]
    },
    {
      "cell_type": "code",
      "metadata": {
        "id": "twmA9AvkjYNO",
        "colab_type": "code",
        "colab": {}
      },
      "source": [
        "# define signal to noise ratio value in db\n",
        "snr = 20\n",
        "\n",
        "# define bandwidth value in Hz\n",
        "bandwidth = 3100"
      ],
      "execution_count": 0,
      "outputs": []
    },
    {
      "cell_type": "markdown",
      "metadata": {
        "id": "NhSEYFmblTrD",
        "colab_type": "text"
      },
      "source": [
        "## Result"
      ]
    },
    {
      "cell_type": "code",
      "metadata": {
        "id": "6C5jBaFllTES",
        "colab_type": "code",
        "colab": {
          "base_uri": "https://localhost:8080/",
          "height": 92
        },
        "outputId": "6d802b8b-6d53-46e6-ea90-3fd6f8d1b80a"
      },
      "source": [
        "maxDataRate = calDataRate(bandwidth,snr)\n",
        "print()\n",
        "print('Max Data Rate =', maxDataRate, 'bits/sec')"
      ],
      "execution_count": 24,
      "outputs": [
        {
          "output_type": "stream",
          "text": [
            "snr = 10 ** ( 20 / 10) =  100.0\n",
            "Data rate = 3100 * log2 (101.0)\n",
            "\n",
            "Max Data Rate = 20640.455596530563 bits/sec\n"
          ],
          "name": "stdout"
        }
      ]
    },
    {
      "cell_type": "code",
      "metadata": {
        "id": "aUk3I1hzpisb",
        "colab_type": "code",
        "colab": {}
      },
      "source": [
        ""
      ],
      "execution_count": 0,
      "outputs": []
    }
  ]
}